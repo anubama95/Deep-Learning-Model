{
 "cells": [
  {
   "cell_type": "code",
   "execution_count": 1,
   "metadata": {
    "colab": {
     "base_uri": "https://localhost:8080/",
     "height": 428
    },
    "colab_type": "code",
    "id": "v6TMkIy7tkl9",
    "outputId": "a58ab648-f617-4494-a063-fbe52cffaa4a"
   },
   "outputs": [
    {
     "name": "stderr",
     "output_type": "stream",
     "text": [
      "Using TensorFlow backend.\n"
     ]
    },
    {
     "name": "stdout",
     "output_type": "stream",
     "text": [
      "WARNING:tensorflow:From /home/asus/anaconda3/lib/python3.7/site-packages/tensorflow_core/python/ops/resource_variable_ops.py:1630: calling BaseResourceVariable.__init__ (from tensorflow.python.ops.resource_variable_ops) with constraint is deprecated and will be removed in a future version.\n",
      "Instructions for updating:\n",
      "If using Keras pass *_constraint arguments to layers.\n",
      "WARNING:tensorflow:From /home/asus/.local/lib/python3.7/site-packages/keras/backend/tensorflow_backend.py:4070: The name tf.nn.max_pool is deprecated. Please use tf.nn.max_pool2d instead.\n",
      "\n"
     ]
    }
   ],
   "source": [
    "from keras.applications import VGG16\n",
    "vgg_conv = VGG16(weights='imagenet', include_top=False, input_shape=(224, 224, 3))"
   ]
  },
  {
   "cell_type": "code",
   "execution_count": 2,
   "metadata": {
    "colab": {},
    "colab_type": "code",
    "id": "OaGV9GN_t01Y"
   },
   "outputs": [],
   "source": [
    "from keras.preprocessing.image import ImageDataGenerator"
   ]
  },
  {
   "cell_type": "code",
   "execution_count": 3,
   "metadata": {
    "colab": {
     "base_uri": "https://localhost:8080/",
     "height": 340
    },
    "colab_type": "code",
    "id": "P-BHAQcRt5b3",
    "outputId": "1f90087c-0654-4aee-b206-9b6484b89549",
    "scrolled": true
   },
   "outputs": [
    {
     "name": "stdout",
     "output_type": "stream",
     "text": [
      "<keras.engine.input_layer.InputLayer object at 0x7f6384ae2b10> False\n",
      "<keras.layers.convolutional.Conv2D object at 0x7f62dcd73610> False\n",
      "<keras.layers.convolutional.Conv2D object at 0x7f62dcd73a50> False\n",
      "<keras.layers.pooling.MaxPooling2D object at 0x7f62dcd2f050> False\n",
      "<keras.layers.convolutional.Conv2D object at 0x7f62dc4d2390> False\n",
      "<keras.layers.convolutional.Conv2D object at 0x7f62dc4e04d0> False\n",
      "<keras.layers.pooling.MaxPooling2D object at 0x7f62dc4e77d0> False\n",
      "<keras.layers.convolutional.Conv2D object at 0x7f62dc4ecc50> False\n",
      "<keras.layers.convolutional.Conv2D object at 0x7f62dc4f7b50> False\n",
      "<keras.layers.convolutional.Conv2D object at 0x7f62dc480290> False\n",
      "<keras.layers.pooling.MaxPooling2D object at 0x7f62dc48c4d0> False\n",
      "<keras.layers.convolutional.Conv2D object at 0x7f62dc499610> False\n",
      "<keras.layers.convolutional.Conv2D object at 0x7f62dc4a44d0> False\n",
      "<keras.layers.convolutional.Conv2D object at 0x7f62dc4aa910> False\n",
      "<keras.layers.pooling.MaxPooling2D object at 0x7f62dc4b8b90> False\n",
      "<keras.layers.convolutional.Conv2D object at 0x7f62dc4b0d90> True\n",
      "<keras.layers.convolutional.Conv2D object at 0x7f62dc44af10> True\n",
      "<keras.layers.convolutional.Conv2D object at 0x7f62dc459c50> True\n",
      "<keras.layers.pooling.MaxPooling2D object at 0x7f62dc464650> True\n"
     ]
    }
   ],
   "source": [
    "for layer in vgg_conv.layers[:-4]:\n",
    "    layer.trainable = False\n",
    " \n",
    "for layer in vgg_conv.layers:\n",
    "    print(layer, layer.trainable)"
   ]
  },
  {
   "cell_type": "code",
   "execution_count": 4,
   "metadata": {
    "colab": {
     "base_uri": "https://localhost:8080/",
     "height": 462
    },
    "colab_type": "code",
    "id": "6p4ncawmt8cJ",
    "outputId": "00f2c3f2-b1b8-46b9-8be0-f23ddc87b07d"
   },
   "outputs": [
    {
     "name": "stdout",
     "output_type": "stream",
     "text": [
      "Model: \"sequential_1\"\n",
      "_________________________________________________________________\n",
      "Layer (type)                 Output Shape              Param #   \n",
      "=================================================================\n",
      "vgg16 (Model)                (None, 7, 7, 512)         14714688  \n",
      "_________________________________________________________________\n",
      "flatten_1 (Flatten)          (None, 25088)             0         \n",
      "_________________________________________________________________\n",
      "dense_1 (Dense)              (None, 1024)              25691136  \n",
      "_________________________________________________________________\n",
      "dense_2 (Dense)              (None, 512)               524800    \n",
      "_________________________________________________________________\n",
      "dropout_1 (Dropout)          (None, 512)               0         \n",
      "_________________________________________________________________\n",
      "dense_3 (Dense)              (None, 7)                 3591      \n",
      "=================================================================\n",
      "Total params: 40,934,215\n",
      "Trainable params: 33,298,951\n",
      "Non-trainable params: 7,635,264\n",
      "_________________________________________________________________\n"
     ]
    }
   ],
   "source": [
    "from keras import models\n",
    "from keras import layers\n",
    "from keras import optimizers\n",
    " \n",
    "model = models.Sequential()\n",
    " \n",
    "model.add(vgg_conv)\n",
    " \n",
    "model.add(layers.Flatten())\n",
    "model.add(layers.Dense(1024, activation='relu'))\n",
    "model.add(layers.Dense(512, activation='relu'))\n",
    "model.add(layers.Dropout(0.25))\n",
    "model.add(layers.Dense(7, activation='softmax'))\n",
    " \n",
    "model.summary()"
   ]
  },
  {
   "cell_type": "code",
   "execution_count": 5,
   "metadata": {
    "colab": {},
    "colab_type": "code",
    "id": "U6zLwXpsuFao"
   },
   "outputs": [],
   "source": [
    "train_dir = '/home/asus/Desktop/Dataset_splitss/train'\n",
    "validation_dir = '/home/asus/Desktop/Dataset_splitss/validation'"
   ]
  },
  {
   "cell_type": "code",
   "execution_count": 6,
   "metadata": {
    "colab": {},
    "colab_type": "code",
    "id": "_jVOX4HcuffN"
   },
   "outputs": [],
   "source": [
    "import numpy as np\n",
    "from random import shuffle"
   ]
  },
  {
   "cell_type": "code",
   "execution_count": 7,
   "metadata": {
    "colab": {
     "base_uri": "https://localhost:8080/",
     "height": 51
    },
    "colab_type": "code",
    "id": "W1unEexmuifh",
    "outputId": "6c3e6aef-9ea3-4c53-e5b1-39827c02965e"
   },
   "outputs": [
    {
     "name": "stdout",
     "output_type": "stream",
     "text": [
      "Found 22047 images belonging to 7 classes.\n",
      "Found 4131 images belonging to 7 classes.\n"
     ]
    }
   ],
   "source": [
    "train_datagen = ImageDataGenerator(\n",
    "      rescale=1./255,\n",
    "    rotation_range=20,\n",
    "    width_shift_range=0.2,\n",
    "  height_shift_range=0.2,\n",
    "    horizontal_flip=True,\n",
    "   fill_mode='nearest'\n",
    ")\n",
    " \n",
    "validation_datagen = ImageDataGenerator(rescale=1./255)\n",
    " \n",
    "train_batchsize = 124\n",
    "val_batchsize = 20\n",
    " \n",
    "train_generator = train_datagen.flow_from_directory(\n",
    "        train_dir,\n",
    "        target_size=(224, 224),\n",
    "        batch_size=train_batchsize,\n",
    "        class_mode='categorical')\n",
    " \n",
    "validation_generator = validation_datagen.flow_from_directory(\n",
    "        validation_dir,\n",
    "        target_size=(224, 224),\n",
    "        batch_size=val_batchsize,\n",
    "        class_mode='categorical',\n",
    "        shuffle=True)"
   ]
  },
  {
   "cell_type": "code",
   "execution_count": 8,
   "metadata": {
    "colab": {
     "base_uri": "https://localhost:8080/",
     "height": 54
    },
    "colab_type": "code",
    "id": "FBjZnDhuyKY8",
    "outputId": "ffe6afc1-2554-491a-930f-0c08247ceff2"
   },
   "outputs": [
    {
     "name": "stdout",
     "output_type": "stream",
     "text": [
      "{'Paddy': 0, 'corn': 1, 'groundnut': 2, 'pepperbell': 3, 'pomogrnate': 4, 'potato': 5, 'tomato': 6}\n"
     ]
    }
   ],
   "source": [
    "print(train_generator.class_indices)"
   ]
  },
  {
   "cell_type": "code",
   "execution_count": null,
   "metadata": {
    "colab": {
     "base_uri": "https://localhost:8080/",
     "height": 632
    },
    "colab_type": "code",
    "id": "oSNXPIj1yOJ3",
    "outputId": "56e6de14-86fc-450a-8e04-0c69aad7e8a9"
   },
   "outputs": [
    {
     "name": "stdout",
     "output_type": "stream",
     "text": [
      "WARNING:tensorflow:From /home/asus/.local/lib/python3.7/site-packages/keras/backend/tensorflow_backend.py:422: The name tf.global_variables is deprecated. Please use tf.compat.v1.global_variables instead.\n",
      "\n",
      "Epoch 1/6\n",
      "178/177 [==============================] - 3885s 22s/step - loss: 0.3509 - acc: 0.8948 - val_loss: 0.0088 - val_acc: 0.9918\n",
      "Epoch 2/6\n",
      "178/177 [==============================] - 3400s 19s/step - loss: 0.0820 - acc: 0.9742 - val_loss: 0.0119 - val_acc: 0.9910\n",
      "Epoch 3/6\n",
      "178/177 [==============================] - 3878s 22s/step - loss: 0.0604 - acc: 0.9822 - val_loss: 8.9753e-04 - val_acc: 0.9785\n",
      "Epoch 4/6\n",
      "178/177 [==============================] - 3647s 20s/step - loss: 0.0476 - acc: 0.9861 - val_loss: 0.0164 - val_acc: 0.9932\n",
      "Epoch 5/6\n",
      "178/177 [==============================] - 4174s 23s/step - loss: 0.0394 - acc: 0.9883 - val_loss: 1.1271e-06 - val_acc: 0.9937\n",
      "Epoch 6/6\n",
      "177/177 [============================>.] - ETA: 13s - loss: 0.0324 - acc: 0.9905"
     ]
    }
   ],
   "source": [
    "model.compile(loss='categorical_crossentropy',\n",
    "              optimizer=optimizers.RMSprop(lr=1e-4),\n",
    "              metrics=['acc'])\n",
    "\n",
    "history = model.fit_generator(\n",
    "      train_generator,\n",
    "      steps_per_epoch=train_generator.samples/train_generator.batch_size ,\n",
    "      epochs=6,\n",
    "      validation_data=validation_generator,\n",
    "      validation_steps=validation_generator.samples/validation_generator.batch_size,\n",
    "      verbose=1)"
   ]
  },
  {
   "cell_type": "code",
   "execution_count": null,
   "metadata": {
    "colab": {},
    "colab_type": "code",
    "id": "SYg6lqaPyZ-i"
   },
   "outputs": [],
   "source": [
    "model.save('finalized_typecrop_disease.h5')"
   ]
  }
 ],
 "metadata": {
  "accelerator": "GPU",
  "colab": {
   "collapsed_sections": [],
   "name": "finalvgg trial.ipynb",
   "provenance": []
  },
  "kernelspec": {
   "display_name": "Python 3",
   "language": "python",
   "name": "python3"
  },
  "language_info": {
   "codemirror_mode": {
    "name": "ipython",
    "version": 3
   },
   "file_extension": ".py",
   "mimetype": "text/x-python",
   "name": "python",
   "nbconvert_exporter": "python",
   "pygments_lexer": "ipython3",
   "version": "3.7.4"
  }
 },
 "nbformat": 4,
 "nbformat_minor": 1
}
